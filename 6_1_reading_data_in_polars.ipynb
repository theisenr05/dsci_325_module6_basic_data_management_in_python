{
 "cells": [
  {
   "cell_type": "markdown",
   "id": "2d129329",
   "metadata": {},
   "source": [
    "## Colab Prep\n",
    "\n",
    "Execute the following code cells to whenever you open/restart the notebook in Google Colab."
   ]
  },
  {
   "cell_type": "code",
   "execution_count": null,
   "id": "7b375479",
   "metadata": {},
   "outputs": [],
   "source": [
    "!pip install \"polars[all]\" #execute each time you start/restart a Colab session"
   ]
  },
  {
   "cell_type": "code",
   "execution_count": null,
   "id": "d188a811",
   "metadata": {
    "scrolled": true
   },
   "outputs": [],
   "source": [
    "!wget https://github.com/WSU-DataScience/dsci_325_module6_basic_data_management_in_python/raw/main/sample_data.zip"
   ]
  },
  {
   "cell_type": "code",
   "execution_count": null,
   "id": "311d5379",
   "metadata": {},
   "outputs": [],
   "source": [
    "!unzip ./sample_data.zip"
   ]
  },
  {
   "cell_type": "markdown",
   "id": "d7eb6615",
   "metadata": {
    "slideshow": {
     "slide_type": "slide"
    }
   },
   "source": [
    "# Module 6.1 - Reading Data in `polars`"
   ]
  },
  {
   "cell_type": "markdown",
   "id": "e837c555",
   "metadata": {},
   "source": [
    "## Dataframes in Python\n",
    "\n",
    "Here a summary of some of the important the data management libraries in Python.\n",
    "\n",
    "* `pandas` was the first (and still most popular) data frame library.  It was based on `R` data frames, but is starting to show its age.\n",
    "* `polars` is a new library similar to `pandas`, but has new features that make it easier to work with and more efficient for large data and multi-core machines.\n",
    "* `pyspark` is used for managing very large data on a distributed network of machines.\n",
    "* `koalas` is an interface to `pyspark` that based on the `pandas` interface.\n",
    "\n",
    "**Note.** We will be primarily focusing on `polars`, but will occasionally need to convert to `pandas` to work with other libraries."
   ]
  },
  {
   "cell_type": "markdown",
   "id": "75dedaaa",
   "metadata": {
    "slideshow": {
     "slide_type": "slide"
    }
   },
   "source": [
    "## Polars provides Python next-generation data frames\n",
    "\n",
    "* **Expressive.** Queries are familiar, readable, and combosable.\n",
    "* **Parallel.** Can use all cores/threads\n",
    "* **Fast.** [Fastest] in-memory data frames\n",
    "* **Lazy.** Allows lazy evaluation for\n",
    "    * Efficient memory usage\n",
    "    * Query optimization\n",
    "    * Filter pushdown\n",
    "* **Eager.** Allows eager evaluation for convenience on small data sets."
   ]
  },
  {
   "cell_type": "code",
   "execution_count": 1,
   "id": "604503d3",
   "metadata": {
    "slideshow": {
     "slide_type": "fragment"
    }
   },
   "outputs": [],
   "source": [
    "import polars as pl"
   ]
  },
  {
   "cell_type": "markdown",
   "id": "7578a0b7",
   "metadata": {
    "slideshow": {
     "slide_type": "slide"
    }
   },
   "source": [
    "## Our first dataframe"
   ]
  },
  {
   "cell_type": "code",
   "execution_count": 4,
   "id": "a06eb83a",
   "metadata": {
    "scrolled": true,
    "slideshow": {
     "slide_type": "fragment"
    }
   },
   "outputs": [
    {
     "data": {
      "text/html": [
       "<div><style>\n",
       ".dataframe > thead > tr,\n",
       ".dataframe > tbody > tr {\n",
       "  text-align: right;\n",
       "  white-space: pre-wrap;\n",
       "}\n",
       "</style>\n",
       "<small>shape: (3, 4)</small><table border=\"1\" class=\"dataframe\"><thead><tr><th>Names</th><th>Python_mastery</th><th>Love_of_R</th><th>years_at_wsu</th></tr><tr><td>str</td><td>f64</td><td>i64</td><td>i64</td></tr></thead><tbody><tr><td>&quot;Iverson&quot;</td><td>10.0</td><td>2</td><td>4</td></tr><tr><td>&quot;Malone&quot;</td><td>5.5</td><td>5</td><td>17</td></tr><tr><td>&quot;Bergen&quot;</td><td>1.0</td><td>11</td><td>5</td></tr></tbody></table></div>"
      ],
      "text/plain": [
       "shape: (3, 4)\n",
       "┌─────────┬────────────────┬───────────┬──────────────┐\n",
       "│ Names   ┆ Python_mastery ┆ Love_of_R ┆ years_at_wsu │\n",
       "│ ---     ┆ ---            ┆ ---       ┆ ---          │\n",
       "│ str     ┆ f64            ┆ i64       ┆ i64          │\n",
       "╞═════════╪════════════════╪═══════════╪══════════════╡\n",
       "│ Iverson ┆ 10.0           ┆ 2         ┆ 4            │\n",
       "│ Malone  ┆ 5.5            ┆ 5         ┆ 17           │\n",
       "│ Bergen  ┆ 1.0            ┆ 11        ┆ 5            │\n",
       "└─────────┴────────────────┴───────────┴──────────────┘"
      ]
     },
     "execution_count": 4,
     "metadata": {},
     "output_type": "execute_result"
    }
   ],
   "source": [
    "df = pl.DataFrame({\"Names\": [\"Iverson\", \"Malone\", \"Bergen\"],\n",
    "                   \"Python_mastery\": [10.0, 5.5, 1.0],\n",
    "                   \"Love_of_R\": [2, 5, 11],\n",
    "                   \"years_at_wsu\": [4, 17, 5]})\n",
    "df.head()"
   ]
  },
  {
   "cell_type": "markdown",
   "id": "c387ad88",
   "metadata": {
    "slideshow": {
     "slide_type": "slide"
    }
   },
   "source": [
    "## Reading from a data file\n",
    "\n",
    "* Most data sets will be read in from a csv or JSON data file\n",
    "* `Pandas` provides `read_csv` and `read_json`"
   ]
  },
  {
   "cell_type": "markdown",
   "id": "1e4a58eb",
   "metadata": {
    "slideshow": {
     "slide_type": "slide"
    }
   },
   "source": [
    "### Open a CSV file from a local file w/ relative path"
   ]
  },
  {
   "cell_type": "code",
   "execution_count": 5,
   "id": "23873858",
   "metadata": {},
   "outputs": [
    {
     "data": {
      "text/html": [
       "<div><style>\n",
       ".dataframe > thead > tr,\n",
       ".dataframe > tbody > tr {\n",
       "  text-align: right;\n",
       "  white-space: pre-wrap;\n",
       "}\n",
       "</style>\n",
       "<small>shape: (5, 9)</small><table border=\"1\" class=\"dataframe\"><thead><tr><th>ConstituentID</th><th>DisplayName</th><th>ArtistBio</th><th>Nationality</th><th>Gender</th><th>BeginDate</th><th>EndDate</th><th>Wiki QID</th><th>ULAN</th></tr><tr><td>i64</td><td>str</td><td>str</td><td>str</td><td>str</td><td>i64</td><td>i64</td><td>str</td><td>i64</td></tr></thead><tbody><tr><td>1</td><td>&quot;Robert Arneson&quot;</td><td>&quot;American, 1930–1992&quot;</td><td>&quot;American&quot;</td><td>&quot;Male&quot;</td><td>1930</td><td>1992</td><td>null</td><td>null</td></tr><tr><td>2</td><td>&quot;Doroteo Arnaiz&quot;</td><td>&quot;Spanish, born 1936&quot;</td><td>&quot;Spanish&quot;</td><td>&quot;Male&quot;</td><td>1936</td><td>0</td><td>null</td><td>null</td></tr><tr><td>3</td><td>&quot;Bill Arnold&quot;</td><td>&quot;American, born 1941&quot;</td><td>&quot;American&quot;</td><td>&quot;Male&quot;</td><td>1941</td><td>0</td><td>null</td><td>null</td></tr><tr><td>4</td><td>&quot;Charles Arnoldi&quot;</td><td>&quot;American, born 1946&quot;</td><td>&quot;American&quot;</td><td>&quot;Male&quot;</td><td>1946</td><td>0</td><td>&quot;Q1063584&quot;</td><td>500027998</td></tr><tr><td>5</td><td>&quot;Per Arnoldi&quot;</td><td>&quot;Danish, born 1941&quot;</td><td>&quot;Danish&quot;</td><td>&quot;Male&quot;</td><td>1941</td><td>0</td><td>null</td><td>null</td></tr></tbody></table></div>"
      ],
      "text/plain": [
       "shape: (5, 9)\n",
       "┌────────────┬────────────┬───────────┬───────────┬───┬───────────┬─────────┬──────────┬───────────┐\n",
       "│ Constituen ┆ DisplayNam ┆ ArtistBio ┆ Nationali ┆ … ┆ BeginDate ┆ EndDate ┆ Wiki QID ┆ ULAN      │\n",
       "│ tID        ┆ e          ┆ ---       ┆ ty        ┆   ┆ ---       ┆ ---     ┆ ---      ┆ ---       │\n",
       "│ ---        ┆ ---        ┆ str       ┆ ---       ┆   ┆ i64       ┆ i64     ┆ str      ┆ i64       │\n",
       "│ i64        ┆ str        ┆           ┆ str       ┆   ┆           ┆         ┆          ┆           │\n",
       "╞════════════╪════════════╪═══════════╪═══════════╪═══╪═══════════╪═════════╪══════════╪═══════════╡\n",
       "│ 1          ┆ Robert     ┆ American, ┆ American  ┆ … ┆ 1930      ┆ 1992    ┆ null     ┆ null      │\n",
       "│            ┆ Arneson    ┆ 1930–1992 ┆           ┆   ┆           ┆         ┆          ┆           │\n",
       "│ 2          ┆ Doroteo    ┆ Spanish,  ┆ Spanish   ┆ … ┆ 1936      ┆ 0       ┆ null     ┆ null      │\n",
       "│            ┆ Arnaiz     ┆ born 1936 ┆           ┆   ┆           ┆         ┆          ┆           │\n",
       "│ 3          ┆ Bill       ┆ American, ┆ American  ┆ … ┆ 1941      ┆ 0       ┆ null     ┆ null      │\n",
       "│            ┆ Arnold     ┆ born 1941 ┆           ┆   ┆           ┆         ┆          ┆           │\n",
       "│ 4          ┆ Charles    ┆ American, ┆ American  ┆ … ┆ 1946      ┆ 0       ┆ Q1063584 ┆ 500027998 │\n",
       "│            ┆ Arnoldi    ┆ born 1946 ┆           ┆   ┆           ┆         ┆          ┆           │\n",
       "│ 5          ┆ Per        ┆ Danish,   ┆ Danish    ┆ … ┆ 1941      ┆ 0       ┆ null     ┆ null      │\n",
       "│            ┆ Arnoldi    ┆ born 1941 ┆           ┆   ┆           ┆         ┆          ┆           │\n",
       "└────────────┴────────────┴───────────┴───────────┴───┴───────────┴─────────┴──────────┴───────────┘"
      ]
     },
     "execution_count": 5,
     "metadata": {},
     "output_type": "execute_result"
    }
   ],
   "source": [
    "artists = pl.read_csv('./sample_data/Artists.csv')\n",
    "artists.head()"
   ]
  },
  {
   "cell_type": "markdown",
   "id": "1d5673cc",
   "metadata": {
    "slideshow": {
     "slide_type": "slide"
    }
   },
   "source": [
    "### Open a CSV using a web address"
   ]
  },
  {
   "cell_type": "code",
   "execution_count": 6,
   "id": "41bfb5f9",
   "metadata": {
    "slideshow": {
     "slide_type": "fragment"
    }
   },
   "outputs": [
    {
     "data": {
      "text/html": [
       "<div><style>\n",
       ".dataframe > thead > tr,\n",
       ".dataframe > tbody > tr {\n",
       "  text-align: right;\n",
       "  white-space: pre-wrap;\n",
       "}\n",
       "</style>\n",
       "<small>shape: (5, 9)</small><table border=\"1\" class=\"dataframe\"><thead><tr><th>ConstituentID</th><th>DisplayName</th><th>ArtistBio</th><th>Nationality</th><th>Gender</th><th>BeginDate</th><th>EndDate</th><th>Wiki QID</th><th>ULAN</th></tr><tr><td>i64</td><td>str</td><td>str</td><td>str</td><td>str</td><td>i64</td><td>i64</td><td>str</td><td>i64</td></tr></thead><tbody><tr><td>1</td><td>&quot;Robert Arneson&quot;</td><td>&quot;American, 1930–1992&quot;</td><td>&quot;American&quot;</td><td>&quot;male&quot;</td><td>1930</td><td>1992</td><td>null</td><td>null</td></tr><tr><td>2</td><td>&quot;Doroteo Arnaiz&quot;</td><td>&quot;Spanish, born 1936&quot;</td><td>&quot;Spanish&quot;</td><td>&quot;male&quot;</td><td>1936</td><td>0</td><td>null</td><td>null</td></tr><tr><td>3</td><td>&quot;Bill Arnold&quot;</td><td>&quot;American, born 1941&quot;</td><td>&quot;American&quot;</td><td>&quot;male&quot;</td><td>1941</td><td>0</td><td>null</td><td>null</td></tr><tr><td>4</td><td>&quot;Charles Arnoldi&quot;</td><td>&quot;American, born 1946&quot;</td><td>&quot;American&quot;</td><td>&quot;male&quot;</td><td>1946</td><td>0</td><td>&quot;Q1063584&quot;</td><td>500027998</td></tr><tr><td>5</td><td>&quot;Per Arnoldi&quot;</td><td>&quot;Danish, born 1941&quot;</td><td>&quot;Danish&quot;</td><td>&quot;male&quot;</td><td>1941</td><td>0</td><td>null</td><td>null</td></tr></tbody></table></div>"
      ],
      "text/plain": [
       "shape: (5, 9)\n",
       "┌────────────┬────────────┬───────────┬───────────┬───┬───────────┬─────────┬──────────┬───────────┐\n",
       "│ Constituen ┆ DisplayNam ┆ ArtistBio ┆ Nationali ┆ … ┆ BeginDate ┆ EndDate ┆ Wiki QID ┆ ULAN      │\n",
       "│ tID        ┆ e          ┆ ---       ┆ ty        ┆   ┆ ---       ┆ ---     ┆ ---      ┆ ---       │\n",
       "│ ---        ┆ ---        ┆ str       ┆ ---       ┆   ┆ i64       ┆ i64     ┆ str      ┆ i64       │\n",
       "│ i64        ┆ str        ┆           ┆ str       ┆   ┆           ┆         ┆          ┆           │\n",
       "╞════════════╪════════════╪═══════════╪═══════════╪═══╪═══════════╪═════════╪══════════╪═══════════╡\n",
       "│ 1          ┆ Robert     ┆ American, ┆ American  ┆ … ┆ 1930      ┆ 1992    ┆ null     ┆ null      │\n",
       "│            ┆ Arneson    ┆ 1930–1992 ┆           ┆   ┆           ┆         ┆          ┆           │\n",
       "│ 2          ┆ Doroteo    ┆ Spanish,  ┆ Spanish   ┆ … ┆ 1936      ┆ 0       ┆ null     ┆ null      │\n",
       "│            ┆ Arnaiz     ┆ born 1936 ┆           ┆   ┆           ┆         ┆          ┆           │\n",
       "│ 3          ┆ Bill       ┆ American, ┆ American  ┆ … ┆ 1941      ┆ 0       ┆ null     ┆ null      │\n",
       "│            ┆ Arnold     ┆ born 1941 ┆           ┆   ┆           ┆         ┆          ┆           │\n",
       "│ 4          ┆ Charles    ┆ American, ┆ American  ┆ … ┆ 1946      ┆ 0       ┆ Q1063584 ┆ 500027998 │\n",
       "│            ┆ Arnoldi    ┆ born 1946 ┆           ┆   ┆           ┆         ┆          ┆           │\n",
       "│ 5          ┆ Per        ┆ Danish,   ┆ Danish    ┆ … ┆ 1941      ┆ 0       ┆ null     ┆ null      │\n",
       "│            ┆ Arnoldi    ┆ born 1941 ┆           ┆   ┆           ┆         ┆          ┆           │\n",
       "└────────────┴────────────┴───────────┴───────────┴───┴───────────┴─────────┴──────────┴───────────┘"
      ]
     },
     "execution_count": 6,
     "metadata": {},
     "output_type": "execute_result"
    }
   ],
   "source": [
    "url = \"https://github.com/MuseumofModernArt/collection/raw/main/Artists.csv\"\n",
    "artists =  pl.read_csv(url)\n",
    "artists.head()"
   ]
  },
  {
   "cell_type": "markdown",
   "id": "947af7e6",
   "metadata": {
    "slideshow": {
     "slide_type": "slide"
    }
   },
   "source": [
    "### What is a JSON data file?\n",
    "\n",
    "* Another (more modern) storage\n",
    "* Here the data is stored in row `dict`\n",
    "\n",
    "```{json}\n",
    "[\n",
    "{\n",
    "  \"ConstituentID\": 1,\n",
    "  \"DisplayName\": \"Robert Arneson\",\n",
    "  \"ArtistBio\": \"American, 1930–1992\",\n",
    "  \"Nationality\": \"American\",\n",
    "  \"Gender\": \"Male\",\n",
    "  \"BeginDate\": 1930,\n",
    "  \"EndDate\": 1992,\n",
    "  \"Wiki QID\": null,\n",
    "  \"ULAN\": null\n",
    "},\n",
    "{\n",
    "  \"ConstituentID\": 2,\n",
    "  \"DisplayName\": \"Doroteo Arnaiz\",\n",
    "  \"ArtistBio\": \"Spanish, born 1936\",\n",
    "  \"Nationality\": \"Spanish\",\n",
    "  \"Gender\": \"Male\",\n",
    "  \"BeginDate\": 1936,\n",
    "  \"EndDate\": 0,\n",
    "  \"Wiki QID\": null,\n",
    "  \"ULAN\": null\n",
    "},\n",
    "...\n",
    "```"
   ]
  },
  {
   "cell_type": "markdown",
   "id": "23182c50",
   "metadata": {},
   "source": [
    "### `polars` can read `json` data"
   ]
  },
  {
   "cell_type": "code",
   "execution_count": 7,
   "id": "58dc6f2b",
   "metadata": {
    "slideshow": {
     "slide_type": "fragment"
    }
   },
   "outputs": [
    {
     "data": {
      "text/html": [
       "<div><style>\n",
       ".dataframe > thead > tr,\n",
       ".dataframe > tbody > tr {\n",
       "  text-align: right;\n",
       "  white-space: pre-wrap;\n",
       "}\n",
       "</style>\n",
       "<small>shape: (5, 9)</small><table border=\"1\" class=\"dataframe\"><thead><tr><th>ConstituentID</th><th>DisplayName</th><th>ArtistBio</th><th>Nationality</th><th>Gender</th><th>BeginDate</th><th>EndDate</th><th>Wiki QID</th><th>ULAN</th></tr><tr><td>i64</td><td>str</td><td>str</td><td>str</td><td>str</td><td>i64</td><td>i64</td><td>str</td><td>str</td></tr></thead><tbody><tr><td>1</td><td>&quot;Robert Arneson&quot;</td><td>&quot;American, 1930–1992&quot;</td><td>&quot;American&quot;</td><td>&quot;Male&quot;</td><td>1930</td><td>1992</td><td>null</td><td>null</td></tr><tr><td>2</td><td>&quot;Doroteo Arnaiz&quot;</td><td>&quot;Spanish, born 1936&quot;</td><td>&quot;Spanish&quot;</td><td>&quot;Male&quot;</td><td>1936</td><td>0</td><td>null</td><td>null</td></tr><tr><td>3</td><td>&quot;Bill Arnold&quot;</td><td>&quot;American, born 1941&quot;</td><td>&quot;American&quot;</td><td>&quot;Male&quot;</td><td>1941</td><td>0</td><td>null</td><td>null</td></tr><tr><td>4</td><td>&quot;Charles Arnoldi&quot;</td><td>&quot;American, born 1946&quot;</td><td>&quot;American&quot;</td><td>&quot;Male&quot;</td><td>1946</td><td>0</td><td>&quot;Q1063584&quot;</td><td>&quot;500027998&quot;</td></tr><tr><td>5</td><td>&quot;Per Arnoldi&quot;</td><td>&quot;Danish, born 1941&quot;</td><td>&quot;Danish&quot;</td><td>&quot;Male&quot;</td><td>1941</td><td>0</td><td>null</td><td>null</td></tr></tbody></table></div>"
      ],
      "text/plain": [
       "shape: (5, 9)\n",
       "┌────────────┬────────────┬───────────┬───────────┬───┬───────────┬─────────┬──────────┬───────────┐\n",
       "│ Constituen ┆ DisplayNam ┆ ArtistBio ┆ Nationali ┆ … ┆ BeginDate ┆ EndDate ┆ Wiki QID ┆ ULAN      │\n",
       "│ tID        ┆ e          ┆ ---       ┆ ty        ┆   ┆ ---       ┆ ---     ┆ ---      ┆ ---       │\n",
       "│ ---        ┆ ---        ┆ str       ┆ ---       ┆   ┆ i64       ┆ i64     ┆ str      ┆ str       │\n",
       "│ i64        ┆ str        ┆           ┆ str       ┆   ┆           ┆         ┆          ┆           │\n",
       "╞════════════╪════════════╪═══════════╪═══════════╪═══╪═══════════╪═════════╪══════════╪═══════════╡\n",
       "│ 1          ┆ Robert     ┆ American, ┆ American  ┆ … ┆ 1930      ┆ 1992    ┆ null     ┆ null      │\n",
       "│            ┆ Arneson    ┆ 1930–1992 ┆           ┆   ┆           ┆         ┆          ┆           │\n",
       "│ 2          ┆ Doroteo    ┆ Spanish,  ┆ Spanish   ┆ … ┆ 1936      ┆ 0       ┆ null     ┆ null      │\n",
       "│            ┆ Arnaiz     ┆ born 1936 ┆           ┆   ┆           ┆         ┆          ┆           │\n",
       "│ 3          ┆ Bill       ┆ American, ┆ American  ┆ … ┆ 1941      ┆ 0       ┆ null     ┆ null      │\n",
       "│            ┆ Arnold     ┆ born 1941 ┆           ┆   ┆           ┆         ┆          ┆           │\n",
       "│ 4          ┆ Charles    ┆ American, ┆ American  ┆ … ┆ 1946      ┆ 0       ┆ Q1063584 ┆ 500027998 │\n",
       "│            ┆ Arnoldi    ┆ born 1946 ┆           ┆   ┆           ┆         ┆          ┆           │\n",
       "│ 5          ┆ Per        ┆ Danish,   ┆ Danish    ┆ … ┆ 1941      ┆ 0       ┆ null     ┆ null      │\n",
       "│            ┆ Arnoldi    ┆ born 1941 ┆           ┆   ┆           ┆         ┆          ┆           │\n",
       "└────────────┴────────────┴───────────┴───────────┴───┴───────────┴─────────┴──────────┴───────────┘"
      ]
     },
     "execution_count": 7,
     "metadata": {},
     "output_type": "execute_result"
    }
   ],
   "source": [
    "artists =  pl.read_json('./sample_data/Artists.json')\n",
    "artists.head()"
   ]
  },
  {
   "cell_type": "markdown",
   "id": "08b3c0cb",
   "metadata": {
    "slideshow": {
     "slide_type": "slide"
    }
   },
   "source": [
    "## <font color=\"red\"> Exercise 6.1.1 </font>\n",
    "    \n",
    "Use tab-completion and `help` to discover and explore two more methods of reading a file into a `Pandas` dataframe.\n"
   ]
  },
  {
   "cell_type": "code",
   "execution_count": null,
   "id": "586d3b92",
   "metadata": {
    "slideshow": {
     "slide_type": "fragment"
    }
   },
   "outputs": [],
   "source": [
    "pl.read_ #<-- Tab here"
   ]
  },
  {
   "cell_type": "markdown",
   "id": "8399f3ff",
   "metadata": {},
   "source": [
    "> Discuss what you found here"
   ]
  },
  {
   "cell_type": "markdown",
   "id": "f5a099db",
   "metadata": {
    "slideshow": {
     "slide_type": "slide"
    }
   },
   "source": [
    "## <font color=\"red\"> Exercise 6.1.2 </font>\n",
    "    \n",
    "Read in the `./sample_data/Artwork.csv` from [https://github.com/MuseumofModernArt/collection](https://github.com/MuseumofModernArt/collection) and display the head of the resulting dataframe.\n"
   ]
  },
  {
   "cell_type": "code",
   "execution_count": null,
   "id": "c2dcbcf4",
   "metadata": {
    "slideshow": {
     "slide_type": "fragment"
    }
   },
   "outputs": [],
   "source": [
    "# Your code here"
   ]
  },
  {
   "cell_type": "markdown",
   "id": "02df7b0d",
   "metadata": {},
   "source": [
    "## Working with other character encodings\n",
    "\n",
    "Data stored in a text file \n",
    "\n",
    "* Is encoding using some [character encoding](https://en.wikipedia.org/wiki/Character_encoding) and \n",
    "* Is commonly stored using [UTF-8](https://en.wikipedia.org/wiki/UTF-8), but\n",
    "* Needs to be read and converted when using another encoding."
   ]
  },
  {
   "cell_type": "markdown",
   "id": "1f96ee60",
   "metadata": {},
   "source": [
    "### Example - MoMA exhibitions\n",
    "\n",
    "An example of a data set that is stored with a non-standard encoding is the `./sample_data/MoMAExhibitions1929to1989.csv` provided by the [Museam of Modern Art (MoMA)](https://github.com/MuseumofModernArt/collection)."
   ]
  },
  {
   "cell_type": "markdown",
   "id": "4b25c9f3",
   "metadata": {},
   "source": [
    "### The exhibition file gives encoding errors by default\n",
    "\n",
    "When trying to read this file, we get an error about the encoding."
   ]
  },
  {
   "cell_type": "code",
   "execution_count": 8,
   "id": "1f0fbfc6",
   "metadata": {
    "scrolled": true
   },
   "outputs": [
    {
     "ename": "ComputeError",
     "evalue": "could not parse `\"C�zanne, Gauguin, Seurat, Van Gogh\"` as dtype `str` at column 'ExhibitionTitle' (column number 3)\n\nThe current offset in the file is 403 bytes.\n\nYou might want to try:\n- increasing `infer_schema_length` (e.g. `infer_schema_length=10000`),\n- specifying correct dtype with the `dtypes` argument\n- setting `ignore_errors` to `True`,\n- adding `\"C�zanne, Gauguin, Seurat, Van Gogh\"` to the `null_values` list.\n\nOriginal error: ```invalid utf-8 sequence```",
     "output_type": "error",
     "traceback": [
      "\u001b[0;31m---------------------------------------------------------------------------\u001b[0m",
      "\u001b[0;31mComputeError\u001b[0m                              Traceback (most recent call last)",
      "Cell \u001b[0;32mIn[8], line 1\u001b[0m\n\u001b[0;32m----> 1\u001b[0m exhibitions \u001b[38;5;241m=\u001b[39m \u001b[43mpl\u001b[49m\u001b[38;5;241;43m.\u001b[39;49m\u001b[43mread_csv\u001b[49m\u001b[43m(\u001b[49m\u001b[38;5;124;43m'\u001b[39;49m\u001b[38;5;124;43m./sample_data/MoMAExhibitions1929to1989.csv\u001b[39;49m\u001b[38;5;124;43m'\u001b[39;49m\u001b[43m)\u001b[49m\n",
      "File \u001b[0;32m/opt/anaconda3/envs/polars/lib/python3.12/site-packages/polars/_utils/deprecation.py:91\u001b[0m, in \u001b[0;36mdeprecate_renamed_parameter.<locals>.decorate.<locals>.wrapper\u001b[0;34m(*args, **kwargs)\u001b[0m\n\u001b[1;32m     86\u001b[0m \u001b[38;5;129m@wraps\u001b[39m(function)\n\u001b[1;32m     87\u001b[0m \u001b[38;5;28;01mdef\u001b[39;00m \u001b[38;5;21mwrapper\u001b[39m(\u001b[38;5;241m*\u001b[39margs: P\u001b[38;5;241m.\u001b[39margs, \u001b[38;5;241m*\u001b[39m\u001b[38;5;241m*\u001b[39mkwargs: P\u001b[38;5;241m.\u001b[39mkwargs) \u001b[38;5;241m-\u001b[39m\u001b[38;5;241m>\u001b[39m T:\n\u001b[1;32m     88\u001b[0m     _rename_keyword_argument(\n\u001b[1;32m     89\u001b[0m         old_name, new_name, kwargs, function\u001b[38;5;241m.\u001b[39m\u001b[38;5;18m__qualname__\u001b[39m, version\n\u001b[1;32m     90\u001b[0m     )\n\u001b[0;32m---> 91\u001b[0m     \u001b[38;5;28;01mreturn\u001b[39;00m \u001b[43mfunction\u001b[49m\u001b[43m(\u001b[49m\u001b[38;5;241;43m*\u001b[39;49m\u001b[43margs\u001b[49m\u001b[43m,\u001b[49m\u001b[43m \u001b[49m\u001b[38;5;241;43m*\u001b[39;49m\u001b[38;5;241;43m*\u001b[39;49m\u001b[43mkwargs\u001b[49m\u001b[43m)\u001b[49m\n",
      "File \u001b[0;32m/opt/anaconda3/envs/polars/lib/python3.12/site-packages/polars/_utils/deprecation.py:91\u001b[0m, in \u001b[0;36mdeprecate_renamed_parameter.<locals>.decorate.<locals>.wrapper\u001b[0;34m(*args, **kwargs)\u001b[0m\n\u001b[1;32m     86\u001b[0m \u001b[38;5;129m@wraps\u001b[39m(function)\n\u001b[1;32m     87\u001b[0m \u001b[38;5;28;01mdef\u001b[39;00m \u001b[38;5;21mwrapper\u001b[39m(\u001b[38;5;241m*\u001b[39margs: P\u001b[38;5;241m.\u001b[39margs, \u001b[38;5;241m*\u001b[39m\u001b[38;5;241m*\u001b[39mkwargs: P\u001b[38;5;241m.\u001b[39mkwargs) \u001b[38;5;241m-\u001b[39m\u001b[38;5;241m>\u001b[39m T:\n\u001b[1;32m     88\u001b[0m     _rename_keyword_argument(\n\u001b[1;32m     89\u001b[0m         old_name, new_name, kwargs, function\u001b[38;5;241m.\u001b[39m\u001b[38;5;18m__qualname__\u001b[39m, version\n\u001b[1;32m     90\u001b[0m     )\n\u001b[0;32m---> 91\u001b[0m     \u001b[38;5;28;01mreturn\u001b[39;00m \u001b[43mfunction\u001b[49m\u001b[43m(\u001b[49m\u001b[38;5;241;43m*\u001b[39;49m\u001b[43margs\u001b[49m\u001b[43m,\u001b[49m\u001b[43m \u001b[49m\u001b[38;5;241;43m*\u001b[39;49m\u001b[38;5;241;43m*\u001b[39;49m\u001b[43mkwargs\u001b[49m\u001b[43m)\u001b[49m\n",
      "File \u001b[0;32m/opt/anaconda3/envs/polars/lib/python3.12/site-packages/polars/_utils/deprecation.py:91\u001b[0m, in \u001b[0;36mdeprecate_renamed_parameter.<locals>.decorate.<locals>.wrapper\u001b[0;34m(*args, **kwargs)\u001b[0m\n\u001b[1;32m     86\u001b[0m \u001b[38;5;129m@wraps\u001b[39m(function)\n\u001b[1;32m     87\u001b[0m \u001b[38;5;28;01mdef\u001b[39;00m \u001b[38;5;21mwrapper\u001b[39m(\u001b[38;5;241m*\u001b[39margs: P\u001b[38;5;241m.\u001b[39margs, \u001b[38;5;241m*\u001b[39m\u001b[38;5;241m*\u001b[39mkwargs: P\u001b[38;5;241m.\u001b[39mkwargs) \u001b[38;5;241m-\u001b[39m\u001b[38;5;241m>\u001b[39m T:\n\u001b[1;32m     88\u001b[0m     _rename_keyword_argument(\n\u001b[1;32m     89\u001b[0m         old_name, new_name, kwargs, function\u001b[38;5;241m.\u001b[39m\u001b[38;5;18m__qualname__\u001b[39m, version\n\u001b[1;32m     90\u001b[0m     )\n\u001b[0;32m---> 91\u001b[0m     \u001b[38;5;28;01mreturn\u001b[39;00m \u001b[43mfunction\u001b[49m\u001b[43m(\u001b[49m\u001b[38;5;241;43m*\u001b[39;49m\u001b[43margs\u001b[49m\u001b[43m,\u001b[49m\u001b[43m \u001b[49m\u001b[38;5;241;43m*\u001b[39;49m\u001b[38;5;241;43m*\u001b[39;49m\u001b[43mkwargs\u001b[49m\u001b[43m)\u001b[49m\n",
      "File \u001b[0;32m/opt/anaconda3/envs/polars/lib/python3.12/site-packages/polars/io/csv/functions.py:496\u001b[0m, in \u001b[0;36mread_csv\u001b[0;34m(source, has_header, columns, new_columns, separator, comment_prefix, quote_char, skip_rows, schema, schema_overrides, null_values, missing_utf8_is_empty_string, ignore_errors, try_parse_dates, n_threads, infer_schema, infer_schema_length, batch_size, n_rows, encoding, low_memory, rechunk, use_pyarrow, storage_options, skip_rows_after_header, row_index_name, row_index_offset, sample_size, eol_char, raise_if_empty, truncate_ragged_lines, decimal_comma, glob)\u001b[0m\n\u001b[1;32m    488\u001b[0m \u001b[38;5;28;01melse\u001b[39;00m:\n\u001b[1;32m    489\u001b[0m     \u001b[38;5;28;01mwith\u001b[39;00m prepare_file_arg(\n\u001b[1;32m    490\u001b[0m         source,\n\u001b[1;32m    491\u001b[0m         encoding\u001b[38;5;241m=\u001b[39mencoding,\n\u001b[0;32m   (...)\u001b[0m\n\u001b[1;32m    494\u001b[0m         storage_options\u001b[38;5;241m=\u001b[39mstorage_options,\n\u001b[1;32m    495\u001b[0m     ) \u001b[38;5;28;01mas\u001b[39;00m data:\n\u001b[0;32m--> 496\u001b[0m         df \u001b[38;5;241m=\u001b[39m \u001b[43m_read_csv_impl\u001b[49m\u001b[43m(\u001b[49m\n\u001b[1;32m    497\u001b[0m \u001b[43m            \u001b[49m\u001b[43mdata\u001b[49m\u001b[43m,\u001b[49m\n\u001b[1;32m    498\u001b[0m \u001b[43m            \u001b[49m\u001b[43mhas_header\u001b[49m\u001b[38;5;241;43m=\u001b[39;49m\u001b[43mhas_header\u001b[49m\u001b[43m,\u001b[49m\n\u001b[1;32m    499\u001b[0m \u001b[43m            \u001b[49m\u001b[43mcolumns\u001b[49m\u001b[38;5;241;43m=\u001b[39;49m\u001b[43mcolumns\u001b[49m\u001b[43m \u001b[49m\u001b[38;5;28;43;01mif\u001b[39;49;00m\u001b[43m \u001b[49m\u001b[43mcolumns\u001b[49m\u001b[43m \u001b[49m\u001b[38;5;28;43;01melse\u001b[39;49;00m\u001b[43m \u001b[49m\u001b[43mprojection\u001b[49m\u001b[43m,\u001b[49m\n\u001b[1;32m    500\u001b[0m \u001b[43m            \u001b[49m\u001b[43mseparator\u001b[49m\u001b[38;5;241;43m=\u001b[39;49m\u001b[43mseparator\u001b[49m\u001b[43m,\u001b[49m\n\u001b[1;32m    501\u001b[0m \u001b[43m            \u001b[49m\u001b[43mcomment_prefix\u001b[49m\u001b[38;5;241;43m=\u001b[39;49m\u001b[43mcomment_prefix\u001b[49m\u001b[43m,\u001b[49m\n\u001b[1;32m    502\u001b[0m \u001b[43m            \u001b[49m\u001b[43mquote_char\u001b[49m\u001b[38;5;241;43m=\u001b[39;49m\u001b[43mquote_char\u001b[49m\u001b[43m,\u001b[49m\n\u001b[1;32m    503\u001b[0m \u001b[43m            \u001b[49m\u001b[43mskip_rows\u001b[49m\u001b[38;5;241;43m=\u001b[39;49m\u001b[43mskip_rows\u001b[49m\u001b[43m,\u001b[49m\n\u001b[1;32m    504\u001b[0m \u001b[43m            \u001b[49m\u001b[43mschema_overrides\u001b[49m\u001b[38;5;241;43m=\u001b[39;49m\u001b[43mschema_overrides\u001b[49m\u001b[43m,\u001b[49m\n\u001b[1;32m    505\u001b[0m \u001b[43m            \u001b[49m\u001b[43mschema\u001b[49m\u001b[38;5;241;43m=\u001b[39;49m\u001b[43mschema\u001b[49m\u001b[43m,\u001b[49m\n\u001b[1;32m    506\u001b[0m \u001b[43m            \u001b[49m\u001b[43mnull_values\u001b[49m\u001b[38;5;241;43m=\u001b[39;49m\u001b[43mnull_values\u001b[49m\u001b[43m,\u001b[49m\n\u001b[1;32m    507\u001b[0m \u001b[43m            \u001b[49m\u001b[43mmissing_utf8_is_empty_string\u001b[49m\u001b[38;5;241;43m=\u001b[39;49m\u001b[43mmissing_utf8_is_empty_string\u001b[49m\u001b[43m,\u001b[49m\n\u001b[1;32m    508\u001b[0m \u001b[43m            \u001b[49m\u001b[43mignore_errors\u001b[49m\u001b[38;5;241;43m=\u001b[39;49m\u001b[43mignore_errors\u001b[49m\u001b[43m,\u001b[49m\n\u001b[1;32m    509\u001b[0m \u001b[43m            \u001b[49m\u001b[43mtry_parse_dates\u001b[49m\u001b[38;5;241;43m=\u001b[39;49m\u001b[43mtry_parse_dates\u001b[49m\u001b[43m,\u001b[49m\n\u001b[1;32m    510\u001b[0m \u001b[43m            \u001b[49m\u001b[43mn_threads\u001b[49m\u001b[38;5;241;43m=\u001b[39;49m\u001b[43mn_threads\u001b[49m\u001b[43m,\u001b[49m\n\u001b[1;32m    511\u001b[0m \u001b[43m            \u001b[49m\u001b[43minfer_schema_length\u001b[49m\u001b[38;5;241;43m=\u001b[39;49m\u001b[43minfer_schema_length\u001b[49m\u001b[43m,\u001b[49m\n\u001b[1;32m    512\u001b[0m \u001b[43m            \u001b[49m\u001b[43mbatch_size\u001b[49m\u001b[38;5;241;43m=\u001b[39;49m\u001b[43mbatch_size\u001b[49m\u001b[43m,\u001b[49m\n\u001b[1;32m    513\u001b[0m \u001b[43m            \u001b[49m\u001b[43mn_rows\u001b[49m\u001b[38;5;241;43m=\u001b[39;49m\u001b[43mn_rows\u001b[49m\u001b[43m,\u001b[49m\n\u001b[1;32m    514\u001b[0m \u001b[43m            \u001b[49m\u001b[43mencoding\u001b[49m\u001b[38;5;241;43m=\u001b[39;49m\u001b[43mencoding\u001b[49m\u001b[43m \u001b[49m\u001b[38;5;28;43;01mif\u001b[39;49;00m\u001b[43m \u001b[49m\u001b[43mencoding\u001b[49m\u001b[43m \u001b[49m\u001b[38;5;241;43m==\u001b[39;49m\u001b[43m \u001b[49m\u001b[38;5;124;43m\"\u001b[39;49m\u001b[38;5;124;43mutf8-lossy\u001b[39;49m\u001b[38;5;124;43m\"\u001b[39;49m\u001b[43m \u001b[49m\u001b[38;5;28;43;01melse\u001b[39;49;00m\u001b[43m \u001b[49m\u001b[38;5;124;43m\"\u001b[39;49m\u001b[38;5;124;43mutf8\u001b[39;49m\u001b[38;5;124;43m\"\u001b[39;49m\u001b[43m,\u001b[49m\n\u001b[1;32m    515\u001b[0m \u001b[43m            \u001b[49m\u001b[43mlow_memory\u001b[49m\u001b[38;5;241;43m=\u001b[39;49m\u001b[43mlow_memory\u001b[49m\u001b[43m,\u001b[49m\n\u001b[1;32m    516\u001b[0m \u001b[43m            \u001b[49m\u001b[43mrechunk\u001b[49m\u001b[38;5;241;43m=\u001b[39;49m\u001b[43mrechunk\u001b[49m\u001b[43m,\u001b[49m\n\u001b[1;32m    517\u001b[0m \u001b[43m            \u001b[49m\u001b[43mskip_rows_after_header\u001b[49m\u001b[38;5;241;43m=\u001b[39;49m\u001b[43mskip_rows_after_header\u001b[49m\u001b[43m,\u001b[49m\n\u001b[1;32m    518\u001b[0m \u001b[43m            \u001b[49m\u001b[43mrow_index_name\u001b[49m\u001b[38;5;241;43m=\u001b[39;49m\u001b[43mrow_index_name\u001b[49m\u001b[43m,\u001b[49m\n\u001b[1;32m    519\u001b[0m \u001b[43m            \u001b[49m\u001b[43mrow_index_offset\u001b[49m\u001b[38;5;241;43m=\u001b[39;49m\u001b[43mrow_index_offset\u001b[49m\u001b[43m,\u001b[49m\n\u001b[1;32m    520\u001b[0m \u001b[43m            \u001b[49m\u001b[43msample_size\u001b[49m\u001b[38;5;241;43m=\u001b[39;49m\u001b[43msample_size\u001b[49m\u001b[43m,\u001b[49m\n\u001b[1;32m    521\u001b[0m \u001b[43m            \u001b[49m\u001b[43meol_char\u001b[49m\u001b[38;5;241;43m=\u001b[39;49m\u001b[43meol_char\u001b[49m\u001b[43m,\u001b[49m\n\u001b[1;32m    522\u001b[0m \u001b[43m            \u001b[49m\u001b[43mraise_if_empty\u001b[49m\u001b[38;5;241;43m=\u001b[39;49m\u001b[43mraise_if_empty\u001b[49m\u001b[43m,\u001b[49m\n\u001b[1;32m    523\u001b[0m \u001b[43m            \u001b[49m\u001b[43mtruncate_ragged_lines\u001b[49m\u001b[38;5;241;43m=\u001b[39;49m\u001b[43mtruncate_ragged_lines\u001b[49m\u001b[43m,\u001b[49m\n\u001b[1;32m    524\u001b[0m \u001b[43m            \u001b[49m\u001b[43mdecimal_comma\u001b[49m\u001b[38;5;241;43m=\u001b[39;49m\u001b[43mdecimal_comma\u001b[49m\u001b[43m,\u001b[49m\n\u001b[1;32m    525\u001b[0m \u001b[43m            \u001b[49m\u001b[43mglob\u001b[49m\u001b[38;5;241;43m=\u001b[39;49m\u001b[43mglob\u001b[49m\u001b[43m,\u001b[49m\n\u001b[1;32m    526\u001b[0m \u001b[43m        \u001b[49m\u001b[43m)\u001b[49m\n\u001b[1;32m    528\u001b[0m \u001b[38;5;28;01mif\u001b[39;00m new_columns:\n\u001b[1;32m    529\u001b[0m     \u001b[38;5;28;01mreturn\u001b[39;00m _update_columns(df, new_columns)\n",
      "File \u001b[0;32m/opt/anaconda3/envs/polars/lib/python3.12/site-packages/polars/io/csv/functions.py:642\u001b[0m, in \u001b[0;36m_read_csv_impl\u001b[0;34m(source, has_header, columns, separator, comment_prefix, quote_char, skip_rows, schema, schema_overrides, null_values, missing_utf8_is_empty_string, ignore_errors, try_parse_dates, n_threads, infer_schema_length, batch_size, n_rows, encoding, low_memory, rechunk, skip_rows_after_header, row_index_name, row_index_offset, sample_size, eol_char, raise_if_empty, truncate_ragged_lines, decimal_comma, glob)\u001b[0m\n\u001b[1;32m    638\u001b[0m         \u001b[38;5;28;01mraise\u001b[39;00m \u001b[38;5;167;01mValueError\u001b[39;00m(msg)\n\u001b[1;32m    640\u001b[0m projection, columns \u001b[38;5;241m=\u001b[39m parse_columns_arg(columns)\n\u001b[0;32m--> 642\u001b[0m pydf \u001b[38;5;241m=\u001b[39m \u001b[43mPyDataFrame\u001b[49m\u001b[38;5;241;43m.\u001b[39;49m\u001b[43mread_csv\u001b[49m\u001b[43m(\u001b[49m\n\u001b[1;32m    643\u001b[0m \u001b[43m    \u001b[49m\u001b[43msource\u001b[49m\u001b[43m,\u001b[49m\n\u001b[1;32m    644\u001b[0m \u001b[43m    \u001b[49m\u001b[43minfer_schema_length\u001b[49m\u001b[43m,\u001b[49m\n\u001b[1;32m    645\u001b[0m \u001b[43m    \u001b[49m\u001b[43mbatch_size\u001b[49m\u001b[43m,\u001b[49m\n\u001b[1;32m    646\u001b[0m \u001b[43m    \u001b[49m\u001b[43mhas_header\u001b[49m\u001b[43m,\u001b[49m\n\u001b[1;32m    647\u001b[0m \u001b[43m    \u001b[49m\u001b[43mignore_errors\u001b[49m\u001b[43m,\u001b[49m\n\u001b[1;32m    648\u001b[0m \u001b[43m    \u001b[49m\u001b[43mn_rows\u001b[49m\u001b[43m,\u001b[49m\n\u001b[1;32m    649\u001b[0m \u001b[43m    \u001b[49m\u001b[43mskip_rows\u001b[49m\u001b[43m,\u001b[49m\n\u001b[1;32m    650\u001b[0m \u001b[43m    \u001b[49m\u001b[43mprojection\u001b[49m\u001b[43m,\u001b[49m\n\u001b[1;32m    651\u001b[0m \u001b[43m    \u001b[49m\u001b[43mseparator\u001b[49m\u001b[43m,\u001b[49m\n\u001b[1;32m    652\u001b[0m \u001b[43m    \u001b[49m\u001b[43mrechunk\u001b[49m\u001b[43m,\u001b[49m\n\u001b[1;32m    653\u001b[0m \u001b[43m    \u001b[49m\u001b[43mcolumns\u001b[49m\u001b[43m,\u001b[49m\n\u001b[1;32m    654\u001b[0m \u001b[43m    \u001b[49m\u001b[43mencoding\u001b[49m\u001b[43m,\u001b[49m\n\u001b[1;32m    655\u001b[0m \u001b[43m    \u001b[49m\u001b[43mn_threads\u001b[49m\u001b[43m,\u001b[49m\n\u001b[1;32m    656\u001b[0m \u001b[43m    \u001b[49m\u001b[43mpath\u001b[49m\u001b[43m,\u001b[49m\n\u001b[1;32m    657\u001b[0m \u001b[43m    \u001b[49m\u001b[43mdtype_list\u001b[49m\u001b[43m,\u001b[49m\n\u001b[1;32m    658\u001b[0m \u001b[43m    \u001b[49m\u001b[43mdtype_slice\u001b[49m\u001b[43m,\u001b[49m\n\u001b[1;32m    659\u001b[0m \u001b[43m    \u001b[49m\u001b[43mlow_memory\u001b[49m\u001b[43m,\u001b[49m\n\u001b[1;32m    660\u001b[0m \u001b[43m    \u001b[49m\u001b[43mcomment_prefix\u001b[49m\u001b[43m,\u001b[49m\n\u001b[1;32m    661\u001b[0m \u001b[43m    \u001b[49m\u001b[43mquote_char\u001b[49m\u001b[43m,\u001b[49m\n\u001b[1;32m    662\u001b[0m \u001b[43m    \u001b[49m\u001b[43mprocessed_null_values\u001b[49m\u001b[43m,\u001b[49m\n\u001b[1;32m    663\u001b[0m \u001b[43m    \u001b[49m\u001b[43mmissing_utf8_is_empty_string\u001b[49m\u001b[43m,\u001b[49m\n\u001b[1;32m    664\u001b[0m \u001b[43m    \u001b[49m\u001b[43mtry_parse_dates\u001b[49m\u001b[43m,\u001b[49m\n\u001b[1;32m    665\u001b[0m \u001b[43m    \u001b[49m\u001b[43mskip_rows_after_header\u001b[49m\u001b[43m,\u001b[49m\n\u001b[1;32m    666\u001b[0m \u001b[43m    \u001b[49m\u001b[43mparse_row_index_args\u001b[49m\u001b[43m(\u001b[49m\u001b[43mrow_index_name\u001b[49m\u001b[43m,\u001b[49m\u001b[43m \u001b[49m\u001b[43mrow_index_offset\u001b[49m\u001b[43m)\u001b[49m\u001b[43m,\u001b[49m\n\u001b[1;32m    667\u001b[0m \u001b[43m    \u001b[49m\u001b[43msample_size\u001b[49m\u001b[38;5;241;43m=\u001b[39;49m\u001b[43msample_size\u001b[49m\u001b[43m,\u001b[49m\n\u001b[1;32m    668\u001b[0m \u001b[43m    \u001b[49m\u001b[43meol_char\u001b[49m\u001b[38;5;241;43m=\u001b[39;49m\u001b[43meol_char\u001b[49m\u001b[43m,\u001b[49m\n\u001b[1;32m    669\u001b[0m \u001b[43m    \u001b[49m\u001b[43mraise_if_empty\u001b[49m\u001b[38;5;241;43m=\u001b[39;49m\u001b[43mraise_if_empty\u001b[49m\u001b[43m,\u001b[49m\n\u001b[1;32m    670\u001b[0m \u001b[43m    \u001b[49m\u001b[43mtruncate_ragged_lines\u001b[49m\u001b[38;5;241;43m=\u001b[39;49m\u001b[43mtruncate_ragged_lines\u001b[49m\u001b[43m,\u001b[49m\n\u001b[1;32m    671\u001b[0m \u001b[43m    \u001b[49m\u001b[43mdecimal_comma\u001b[49m\u001b[38;5;241;43m=\u001b[39;49m\u001b[43mdecimal_comma\u001b[49m\u001b[43m,\u001b[49m\n\u001b[1;32m    672\u001b[0m \u001b[43m    \u001b[49m\u001b[43mschema\u001b[49m\u001b[38;5;241;43m=\u001b[39;49m\u001b[43mschema\u001b[49m\u001b[43m,\u001b[49m\n\u001b[1;32m    673\u001b[0m \u001b[43m\u001b[49m\u001b[43m)\u001b[49m\n\u001b[1;32m    674\u001b[0m \u001b[38;5;28;01mreturn\u001b[39;00m wrap_df(pydf)\n",
      "\u001b[0;31mComputeError\u001b[0m: could not parse `\"C�zanne, Gauguin, Seurat, Van Gogh\"` as dtype `str` at column 'ExhibitionTitle' (column number 3)\n\nThe current offset in the file is 403 bytes.\n\nYou might want to try:\n- increasing `infer_schema_length` (e.g. `infer_schema_length=10000`),\n- specifying correct dtype with the `dtypes` argument\n- setting `ignore_errors` to `True`,\n- adding `\"C�zanne, Gauguin, Seurat, Van Gogh\"` to the `null_values` list.\n\nOriginal error: ```invalid utf-8 sequence```"
     ]
    }
   ],
   "source": [
    "exhibitions = pl.read_csv('./sample_data/MoMAExhibitions1929to1989.csv')"
   ]
  },
  {
   "cell_type": "markdown",
   "id": "91eb9919",
   "metadata": {},
   "source": [
    "## Switching encodings fixes the problem\n",
    "\n",
    "* This file uses ISO-8859-1 encoding, see [this Stack Overflow question](https://stackoverflow.com/questions/18171739/unicodedecodeerror-when-reading-csv-file-in-pandas-with-python)\n",
    "* More details on [ISO-8859-1](https://en.wikipedia.org/wiki/ISO/IEC_8859-1)\n",
    "* How to read non-utf8 encodings\n",
    "    * Use Python's tools (`with` statement and `open`) to read the file.\n",
    "    * Encode as `utf-8` and pass to `polars`"
   ]
  },
  {
   "cell_type": "code",
   "execution_count": 10,
   "id": "e678ca73",
   "metadata": {},
   "outputs": [
    {
     "data": {
      "text/html": [
       "<div><style>\n",
       ".dataframe > thead > tr,\n",
       ".dataframe > tbody > tr {\n",
       "  text-align: right;\n",
       "  white-space: pre-wrap;\n",
       "}\n",
       "</style>\n",
       "<small>shape: (2, 28)</small><table border=\"1\" class=\"dataframe\"><thead><tr><th>ExhibitionID</th><th>ExhibitionNumber</th><th>ExhibitionTitle</th><th>ExhibitionCitationDate</th><th>ExhibitionBeginDate</th><th>ExhibitionEndDate</th><th>ExhibitionSortOrder</th><th>ExhibitionURL</th><th>ExhibitionRole</th><th>ExhibitionRoleinPressRelease</th><th>ConstituentID</th><th>ConstituentType</th><th>DisplayName</th><th>AlphaSort</th><th>FirstName</th><th>MiddleName</th><th>LastName</th><th>Suffix</th><th>Institution</th><th>Nationality</th><th>ConstituentBeginDate</th><th>ConstituentEndDate</th><th>ArtistBio</th><th>Gender</th><th>VIAFID</th><th>WikidataID</th><th>ULANID</th><th>ConstituentURL</th></tr><tr><td>i64</td><td>str</td><td>str</td><td>str</td><td>str</td><td>str</td><td>i64</td><td>str</td><td>str</td><td>str</td><td>i64</td><td>str</td><td>str</td><td>str</td><td>str</td><td>str</td><td>str</td><td>str</td><td>str</td><td>str</td><td>i64</td><td>i64</td><td>str</td><td>str</td><td>i64</td><td>str</td><td>i64</td><td>str</td></tr></thead><tbody><tr><td>2557</td><td>&quot;1&quot;</td><td>&quot;Cézanne, Gauguin, Seurat, Van …</td><td>&quot;[MoMA Exh. #1, November 7-Dece…</td><td>&quot;11/7/1929&quot;</td><td>&quot;12/7/1929&quot;</td><td>1</td><td>&quot;moma.org/calendar/exhibitions/…</td><td>&quot;Curator&quot;</td><td>&quot;Director&quot;</td><td>9168</td><td>&quot;Individual&quot;</td><td>&quot;Alfred H. Barr, Jr.&quot;</td><td>&quot;Barr Alfred H. Jr.&quot;</td><td>&quot;Alfred&quot;</td><td>&quot;H.&quot;</td><td>&quot;Barr&quot;</td><td>&quot;Jr.&quot;</td><td>null</td><td>&quot;American&quot;</td><td>1902</td><td>1981</td><td>&quot;American, 19021981&quot;</td><td>&quot;Male&quot;</td><td>109252853</td><td>&quot;Q711362&quot;</td><td>500241556</td><td>&quot;moma.org/artists/9168&quot;</td></tr><tr><td>2557</td><td>&quot;1&quot;</td><td>&quot;Cézanne, Gauguin, Seurat, Van …</td><td>&quot;[MoMA Exh. #1, November 7-Dece…</td><td>&quot;11/7/1929&quot;</td><td>&quot;12/7/1929&quot;</td><td>1</td><td>&quot;moma.org/calendar/exhibitions/…</td><td>&quot;Artist&quot;</td><td>&quot;Artist&quot;</td><td>1053</td><td>&quot;Individual&quot;</td><td>&quot;Paul Cézanne&quot;</td><td>&quot;Cézanne Paul&quot;</td><td>&quot;Paul&quot;</td><td>null</td><td>&quot;Cézanne&quot;</td><td>null</td><td>null</td><td>&quot;French&quot;</td><td>1839</td><td>1906</td><td>&quot;French, 18391906&quot;</td><td>&quot;Male&quot;</td><td>39374836</td><td>&quot;Q35548&quot;</td><td>500004793</td><td>&quot;moma.org/artists/1053&quot;</td></tr></tbody></table></div>"
      ],
      "text/plain": [
       "shape: (2, 28)\n",
       "┌───────────┬───────────┬───────────┬───────────┬───┬───────────┬───────────┬───────────┬──────────┐\n",
       "│ Exhibitio ┆ Exhibitio ┆ Exhibitio ┆ Exhibitio ┆ … ┆ VIAFID    ┆ WikidataI ┆ ULANID    ┆ Constitu │\n",
       "│ nID       ┆ nNumber   ┆ nTitle    ┆ nCitation ┆   ┆ ---       ┆ D         ┆ ---       ┆ entURL   │\n",
       "│ ---       ┆ ---       ┆ ---       ┆ Date      ┆   ┆ i64       ┆ ---       ┆ i64       ┆ ---      │\n",
       "│ i64       ┆ str       ┆ str       ┆ ---       ┆   ┆           ┆ str       ┆           ┆ str      │\n",
       "│           ┆           ┆           ┆ str       ┆   ┆           ┆           ┆           ┆          │\n",
       "╞═══════════╪═══════════╪═══════════╪═══════════╪═══╪═══════════╪═══════════╪═══════════╪══════════╡\n",
       "│ 2557      ┆ 1         ┆ Cézanne,  ┆ [MoMA     ┆ … ┆ 109252853 ┆ Q711362   ┆ 500241556 ┆ moma.org │\n",
       "│           ┆           ┆ Gauguin,  ┆ Exh. #1,  ┆   ┆           ┆           ┆           ┆ /artists │\n",
       "│           ┆           ┆ Seurat,   ┆ November  ┆   ┆           ┆           ┆           ┆ /9168    │\n",
       "│           ┆           ┆ Van …     ┆ 7-Dece…   ┆   ┆           ┆           ┆           ┆          │\n",
       "│ 2557      ┆ 1         ┆ Cézanne,  ┆ [MoMA     ┆ … ┆ 39374836  ┆ Q35548    ┆ 500004793 ┆ moma.org │\n",
       "│           ┆           ┆ Gauguin,  ┆ Exh. #1,  ┆   ┆           ┆           ┆           ┆ /artists │\n",
       "│           ┆           ┆ Seurat,   ┆ November  ┆   ┆           ┆           ┆           ┆ /1053    │\n",
       "│           ┆           ┆ Van …     ┆ 7-Dece…   ┆   ┆           ┆           ┆           ┆          │\n",
       "└───────────┴───────────┴───────────┴───────────┴───┴───────────┴───────────┴───────────┴──────────┘"
      ]
     },
     "execution_count": 10,
     "metadata": {},
     "output_type": "execute_result"
    }
   ],
   "source": [
    "with open('./sample_data/MoMAExhibitions1929to1989.csv', 'r', encoding='ISO-8859-1') as fh:\n",
    "    converted_file = fh.read().encode('utf-8')\n",
    "    exhibitions = pl.read_csv(converted_file,\n",
    "                              ignore_errors=True,\n",
    "                              try_parse_dates=True)\n",
    "    \n",
    "exhibitions.head(2)"
   ]
  },
  {
   "cell_type": "markdown",
   "id": "a8ef481e",
   "metadata": {
    "slideshow": {
     "slide_type": "slide"
    }
   },
   "source": [
    "## So what is a `DateFrame`\n",
    "\n",
    "* Like R, `polars` focuses on columns\n",
    "* Think `dict` of `(str, Series)` pairs \n",
    "* A series is a typed list-like structure"
   ]
  },
  {
   "cell_type": "code",
   "execution_count": 11,
   "id": "fa979561",
   "metadata": {
    "scrolled": true,
    "slideshow": {
     "slide_type": "fragment"
    }
   },
   "outputs": [],
   "source": [
    "# This is how I imagine a dataframe\n",
    "df = pl.DataFrame({\"Names\": [\"Iverson\", \"Malone\", \"Bergen\"],\n",
    "                   \"Python_mastery\": [10.0, 5.5, 1.0],\n",
    "                   \"years_at_wsu\": [4.5, 17.5, 5.5]})"
   ]
  },
  {
   "cell_type": "code",
   "execution_count": 12,
   "id": "e910e23c",
   "metadata": {},
   "outputs": [
    {
     "data": {
      "text/plain": [
       "polars.dataframe.frame.DataFrame"
      ]
     },
     "execution_count": 12,
     "metadata": {},
     "output_type": "execute_result"
    }
   ],
   "source": [
    "type(df)"
   ]
  },
  {
   "cell_type": "code",
   "execution_count": 13,
   "id": "13aa3961",
   "metadata": {},
   "outputs": [
    {
     "data": {
      "text/html": [
       "<div><style>\n",
       ".dataframe > thead > tr,\n",
       ".dataframe > tbody > tr {\n",
       "  text-align: right;\n",
       "  white-space: pre-wrap;\n",
       "}\n",
       "</style>\n",
       "<small>shape: (3, 3)</small><table border=\"1\" class=\"dataframe\"><thead><tr><th>Names</th><th>Python_mastery</th><th>years_at_wsu</th></tr><tr><td>str</td><td>f64</td><td>f64</td></tr></thead><tbody><tr><td>&quot;Iverson&quot;</td><td>10.0</td><td>4.5</td></tr><tr><td>&quot;Malone&quot;</td><td>5.5</td><td>17.5</td></tr><tr><td>&quot;Bergen&quot;</td><td>1.0</td><td>5.5</td></tr></tbody></table></div>"
      ],
      "text/plain": [
       "shape: (3, 3)\n",
       "┌─────────┬────────────────┬──────────────┐\n",
       "│ Names   ┆ Python_mastery ┆ years_at_wsu │\n",
       "│ ---     ┆ ---            ┆ ---          │\n",
       "│ str     ┆ f64            ┆ f64          │\n",
       "╞═════════╪════════════════╪══════════════╡\n",
       "│ Iverson ┆ 10.0           ┆ 4.5          │\n",
       "│ Malone  ┆ 5.5            ┆ 17.5         │\n",
       "│ Bergen  ┆ 1.0            ┆ 5.5          │\n",
       "└─────────┴────────────────┴──────────────┘"
      ]
     },
     "execution_count": 13,
     "metadata": {},
     "output_type": "execute_result"
    }
   ],
   "source": [
    "df"
   ]
  },
  {
   "cell_type": "markdown",
   "id": "5728677a",
   "metadata": {
    "slideshow": {
     "slide_type": "slide"
    }
   },
   "source": [
    "## Two ways to access a column\n",
    "\n",
    "* **Method 1:** Actual data series\n",
    "    * `df[\"column_name\"]`\n",
    "* **Method 2:** lazy column expression used in other context\n",
    "    * `pl.col('column_name')`\n",
    "    * Only for proper names!"
   ]
  },
  {
   "cell_type": "code",
   "execution_count": 14,
   "id": "b6bba0d7",
   "metadata": {
    "slideshow": {
     "slide_type": "fragment"
    }
   },
   "outputs": [
    {
     "data": {
      "text/html": [
       "<div><style>\n",
       ".dataframe > thead > tr,\n",
       ".dataframe > tbody > tr {\n",
       "  text-align: right;\n",
       "  white-space: pre-wrap;\n",
       "}\n",
       "</style>\n",
       "<small>shape: (2,)</small><table border=\"1\" class=\"dataframe\"><thead><tr><th>BeginDate</th></tr><tr><td>i64</td></tr></thead><tbody><tr><td>1930</td></tr><tr><td>1936</td></tr></tbody></table></div>"
      ],
      "text/plain": [
       "shape: (2,)\n",
       "Series: 'BeginDate' [i64]\n",
       "[\n",
       "\t1930\n",
       "\t1936\n",
       "]"
      ]
     },
     "execution_count": 14,
     "metadata": {},
     "output_type": "execute_result"
    }
   ],
   "source": [
    "artists['BeginDate'].head(2)"
   ]
  },
  {
   "cell_type": "code",
   "execution_count": 15,
   "id": "c01758a9",
   "metadata": {},
   "outputs": [
    {
     "data": {
      "text/html": [
       "col(\"BeginDate\")"
      ],
      "text/plain": [
       "<Expr ['col(\"BeginDate\")'] at 0x11591B530>"
      ]
     },
     "execution_count": 15,
     "metadata": {},
     "output_type": "execute_result"
    }
   ],
   "source": [
    "pl.col('BeginDate') # Lazy - Nothing (yet)"
   ]
  },
  {
   "cell_type": "markdown",
   "id": "3161dacb",
   "metadata": {
    "slideshow": {
     "slide_type": "slide"
    }
   },
   "source": [
    "## Columns are type `Series` and hold one type of data"
   ]
  },
  {
   "cell_type": "code",
   "execution_count": 16,
   "id": "683c8b8a",
   "metadata": {
    "slideshow": {
     "slide_type": "fragment"
    }
   },
   "outputs": [
    {
     "data": {
      "text/plain": [
       "polars.series.series.Series"
      ]
     },
     "execution_count": 16,
     "metadata": {},
     "output_type": "execute_result"
    }
   ],
   "source": [
    "type(artists['BeginDate'])"
   ]
  },
  {
   "cell_type": "code",
   "execution_count": 17,
   "id": "9db944bd",
   "metadata": {
    "slideshow": {
     "slide_type": "fragment"
    }
   },
   "outputs": [
    {
     "data": {
      "text/plain": [
       "polars.series.series.Series"
      ]
     },
     "execution_count": 17,
     "metadata": {},
     "output_type": "execute_result"
    }
   ],
   "source": [
    "type(artists['DisplayName'])"
   ]
  },
  {
   "cell_type": "code",
   "execution_count": 18,
   "id": "ce290e3a",
   "metadata": {
    "slideshow": {
     "slide_type": "fragment"
    }
   },
   "outputs": [
    {
     "data": {
      "text/plain": [
       "Int64"
      ]
     },
     "execution_count": 18,
     "metadata": {},
     "output_type": "execute_result"
    }
   ],
   "source": [
    "artists['BeginDate'].dtype"
   ]
  },
  {
   "cell_type": "code",
   "execution_count": 19,
   "id": "26c05383",
   "metadata": {
    "slideshow": {
     "slide_type": "fragment"
    }
   },
   "outputs": [
    {
     "data": {
      "text/plain": [
       "String"
      ]
     },
     "execution_count": 19,
     "metadata": {},
     "output_type": "execute_result"
    }
   ],
   "source": [
    "artists['DisplayName'].dtype"
   ]
  },
  {
   "cell_type": "markdown",
   "id": "a560e786",
   "metadata": {
    "slideshow": {
     "slide_type": "slide"
    }
   },
   "source": [
    "## More on data types\n",
    "\n",
    "* a list of all `polars` data types are available in `pl.datatypes`\n",
    "    * Look for names starting with a capital letter.\n",
    "* Use `df.dtypes` to see the column types in a dataframe named `df`"
   ]
  },
  {
   "cell_type": "markdown",
   "id": "ab7b352b",
   "metadata": {},
   "source": [
    "#### A list of all `polars` data types"
   ]
  },
  {
   "cell_type": "code",
   "execution_count": 20,
   "id": "1d9af050",
   "metadata": {},
   "outputs": [
    {
     "data": {
      "text/plain": [
       "['Array',\n",
       " 'Binary',\n",
       " 'Boolean',\n",
       " 'Categorical',\n",
       " 'Date',\n",
       " 'Datetime',\n",
       " 'Decimal',\n",
       " 'Duration',\n",
       " 'Enum',\n",
       " 'Field',\n",
       " 'Float32',\n",
       " 'Float64',\n",
       " 'Int16',\n",
       " 'Int32',\n",
       " 'Int64',\n",
       " 'Int8',\n",
       " 'List',\n",
       " 'Null',\n",
       " 'Object',\n",
       " 'String',\n",
       " 'Struct',\n",
       " 'Time',\n",
       " 'Unknown',\n",
       " 'Utf8']"
      ]
     },
     "execution_count": 20,
     "metadata": {},
     "output_type": "execute_result"
    }
   ],
   "source": [
    "[m for m in dir(pl.datatypes) if m.istitle()] # istitle used to filter names starting with a capital letter"
   ]
  },
  {
   "cell_type": "markdown",
   "id": "d487abbd",
   "metadata": {},
   "source": [
    "#### Inspecting the data types for a data frame"
   ]
  },
  {
   "cell_type": "code",
   "execution_count": 21,
   "id": "bb05165d",
   "metadata": {
    "scrolled": true,
    "slideshow": {
     "slide_type": "fragment"
    }
   },
   "outputs": [
    {
     "data": {
      "text/plain": [
       "[Int64, String, String, String, String, Int64, Int64, String, String]"
      ]
     },
     "execution_count": 21,
     "metadata": {},
     "output_type": "execute_result"
    }
   ],
   "source": [
    "artists.dtypes"
   ]
  },
  {
   "cell_type": "markdown",
   "id": "da34f96d",
   "metadata": {},
   "source": [
    "## Setting `dtypes` with `read_csv`\n",
    "\n",
    "We can pass a `dict` of types to `dtype` keyword"
   ]
  },
  {
   "cell_type": "code",
   "execution_count": 22,
   "id": "39c5e4e5",
   "metadata": {
    "scrolled": true
   },
   "outputs": [
    {
     "name": "stderr",
     "output_type": "stream",
     "text": [
      "/var/folders/k4/_tynxgnx6l39rvqmb6z2_mmh0000gn/T/ipykernel_39054/747669749.py:11: DeprecationWarning: The argument `dtypes` for `read_csv` is deprecated. It has been renamed to `schema_overrides`.\n",
      "  artists2 = pl.read_csv('./sample_data/Artists.csv', dtypes = artist_types)\n"
     ]
    },
    {
     "data": {
      "text/html": [
       "<div><style>\n",
       ".dataframe > thead > tr,\n",
       ".dataframe > tbody > tr {\n",
       "  text-align: right;\n",
       "  white-space: pre-wrap;\n",
       "}\n",
       "</style>\n",
       "<small>shape: (5, 9)</small><table border=\"1\" class=\"dataframe\"><thead><tr><th>ConstituentID</th><th>DisplayName</th><th>ArtistBio</th><th>Nationality</th><th>Gender</th><th>BeginDate</th><th>EndDate</th><th>Wiki QID</th><th>ULAN</th></tr><tr><td>i64</td><td>str</td><td>str</td><td>str</td><td>str</td><td>i64</td><td>i64</td><td>str</td><td>i64</td></tr></thead><tbody><tr><td>1</td><td>&quot;Robert Arneson&quot;</td><td>&quot;American, 1930–1992&quot;</td><td>&quot;American&quot;</td><td>&quot;Male&quot;</td><td>1930</td><td>1992</td><td>null</td><td>null</td></tr><tr><td>2</td><td>&quot;Doroteo Arnaiz&quot;</td><td>&quot;Spanish, born 1936&quot;</td><td>&quot;Spanish&quot;</td><td>&quot;Male&quot;</td><td>1936</td><td>0</td><td>null</td><td>null</td></tr><tr><td>3</td><td>&quot;Bill Arnold&quot;</td><td>&quot;American, born 1941&quot;</td><td>&quot;American&quot;</td><td>&quot;Male&quot;</td><td>1941</td><td>0</td><td>null</td><td>null</td></tr><tr><td>4</td><td>&quot;Charles Arnoldi&quot;</td><td>&quot;American, born 1946&quot;</td><td>&quot;American&quot;</td><td>&quot;Male&quot;</td><td>1946</td><td>0</td><td>&quot;Q1063584&quot;</td><td>500027998</td></tr><tr><td>5</td><td>&quot;Per Arnoldi&quot;</td><td>&quot;Danish, born 1941&quot;</td><td>&quot;Danish&quot;</td><td>&quot;Male&quot;</td><td>1941</td><td>0</td><td>null</td><td>null</td></tr></tbody></table></div>"
      ],
      "text/plain": [
       "shape: (5, 9)\n",
       "┌────────────┬────────────┬───────────┬───────────┬───┬───────────┬─────────┬──────────┬───────────┐\n",
       "│ Constituen ┆ DisplayNam ┆ ArtistBio ┆ Nationali ┆ … ┆ BeginDate ┆ EndDate ┆ Wiki QID ┆ ULAN      │\n",
       "│ tID        ┆ e          ┆ ---       ┆ ty        ┆   ┆ ---       ┆ ---     ┆ ---      ┆ ---       │\n",
       "│ ---        ┆ ---        ┆ str       ┆ ---       ┆   ┆ i64       ┆ i64     ┆ str      ┆ i64       │\n",
       "│ i64        ┆ str        ┆           ┆ str       ┆   ┆           ┆         ┆          ┆           │\n",
       "╞════════════╪════════════╪═══════════╪═══════════╪═══╪═══════════╪═════════╪══════════╪═══════════╡\n",
       "│ 1          ┆ Robert     ┆ American, ┆ American  ┆ … ┆ 1930      ┆ 1992    ┆ null     ┆ null      │\n",
       "│            ┆ Arneson    ┆ 1930–1992 ┆           ┆   ┆           ┆         ┆          ┆           │\n",
       "│ 2          ┆ Doroteo    ┆ Spanish,  ┆ Spanish   ┆ … ┆ 1936      ┆ 0       ┆ null     ┆ null      │\n",
       "│            ┆ Arnaiz     ┆ born 1936 ┆           ┆   ┆           ┆         ┆          ┆           │\n",
       "│ 3          ┆ Bill       ┆ American, ┆ American  ┆ … ┆ 1941      ┆ 0       ┆ null     ┆ null      │\n",
       "│            ┆ Arnold     ┆ born 1941 ┆           ┆   ┆           ┆         ┆          ┆           │\n",
       "│ 4          ┆ Charles    ┆ American, ┆ American  ┆ … ┆ 1946      ┆ 0       ┆ Q1063584 ┆ 500027998 │\n",
       "│            ┆ Arnoldi    ┆ born 1946 ┆           ┆   ┆           ┆         ┆          ┆           │\n",
       "│ 5          ┆ Per        ┆ Danish,   ┆ Danish    ┆ … ┆ 1941      ┆ 0       ┆ null     ┆ null      │\n",
       "│            ┆ Arnoldi    ┆ born 1941 ┆           ┆   ┆           ┆         ┆          ┆           │\n",
       "└────────────┴────────────┴───────────┴───────────┴───┴───────────┴─────────┴──────────┴───────────┘"
      ]
     },
     "execution_count": 22,
     "metadata": {},
     "output_type": "execute_result"
    }
   ],
   "source": [
    "artist_types = {'ConstituentID': pl.Int64,\n",
    "                'DisplayName': pl.Utf8,\n",
    "                'ArtistBio': pl.Utf8,\n",
    "                'Nationality': pl.Utf8,\n",
    "                'Gender':pl.Utf8,\n",
    "                'BeginDate': pl.Int64,\n",
    "                'EndDate': pl.Int64,\n",
    "                'Wiki QID': pl.Utf8,\n",
    "                'ULAN':pl.Int64} \n",
    "\n",
    "artists2 = pl.read_csv('./sample_data/Artists.csv', dtypes = artist_types)\n",
    "artists2.head()"
   ]
  },
  {
   "cell_type": "markdown",
   "id": "81fe7eeb",
   "metadata": {},
   "source": [
    "## More on `None` and `NaN`\n",
    "\n",
    "`polars` has two types of missing data.\n",
    "\n",
    "* `None`/`null` is a missing value.\n",
    "* `NaN` represents the result of an undefined operation\n",
    "* `NaN` is **not** missing"
   ]
  },
  {
   "cell_type": "code",
   "execution_count": 24,
   "id": "582fe8f3",
   "metadata": {},
   "outputs": [
    {
     "data": {
      "text/html": [
       "<div><style>\n",
       ".dataframe > thead > tr,\n",
       ".dataframe > tbody > tr {\n",
       "  text-align: right;\n",
       "  white-space: pre-wrap;\n",
       "}\n",
       "</style>\n",
       "<small>shape: (4, 3)</small><table border=\"1\" class=\"dataframe\"><thead><tr><th>a</th><th>b</th><th>c</th></tr><tr><td>i64</td><td>i64</td><td>f64</td></tr></thead><tbody><tr><td>-1</td><td>1</td><td>1.0</td></tr><tr><td>0</td><td>2</td><td>2.0</td></tr><tr><td>1</td><td>null</td><td>NaN</td></tr><tr><td>null</td><td>4</td><td>4.0</td></tr></tbody></table></div>"
      ],
      "text/plain": [
       "shape: (4, 3)\n",
       "┌──────┬──────┬─────┐\n",
       "│ a    ┆ b    ┆ c   │\n",
       "│ ---  ┆ ---  ┆ --- │\n",
       "│ i64  ┆ i64  ┆ f64 │\n",
       "╞══════╪══════╪═════╡\n",
       "│ -1   ┆ 1    ┆ 1.0 │\n",
       "│ 0    ┆ 2    ┆ 2.0 │\n",
       "│ 1    ┆ null ┆ NaN │\n",
       "│ null ┆ 4    ┆ 4.0 │\n",
       "└──────┴──────┴─────┘"
      ]
     },
     "execution_count": 24,
     "metadata": {},
     "output_type": "execute_result"
    }
   ],
   "source": [
    "df = pl.DataFrame({'a': [-1, 0 , 1, None],\n",
    "                   'b': [1, 2, None, 4],\n",
    "                   'c': [1.0, 2.0, float('nan'), 4.0]})\n",
    "df"
   ]
  },
  {
   "cell_type": "markdown",
   "id": "9f68a8ae",
   "metadata": {},
   "source": [
    "### `Nan` are a result of undefined operations\n",
    "\n",
    "Note that computing the square root of a negative number returns `Nan`, not `None`/`null`"
   ]
  },
  {
   "cell_type": "code",
   "execution_count": 25,
   "id": "f8f9b393",
   "metadata": {},
   "outputs": [
    {
     "data": {
      "text/html": [
       "<div><style>\n",
       ".dataframe > thead > tr,\n",
       ".dataframe > tbody > tr {\n",
       "  text-align: right;\n",
       "  white-space: pre-wrap;\n",
       "}\n",
       "</style>\n",
       "<small>shape: (4, 2)</small><table border=\"1\" class=\"dataframe\"><thead><tr><th>a</th><th>sqrt_a</th></tr><tr><td>i64</td><td>f64</td></tr></thead><tbody><tr><td>-1</td><td>NaN</td></tr><tr><td>0</td><td>0.0</td></tr><tr><td>1</td><td>1.0</td></tr><tr><td>null</td><td>null</td></tr></tbody></table></div>"
      ],
      "text/plain": [
       "shape: (4, 2)\n",
       "┌──────┬────────┐\n",
       "│ a    ┆ sqrt_a │\n",
       "│ ---  ┆ ---    │\n",
       "│ i64  ┆ f64    │\n",
       "╞══════╪════════╡\n",
       "│ -1   ┆ NaN    │\n",
       "│ 0    ┆ 0.0    │\n",
       "│ 1    ┆ 1.0    │\n",
       "│ null ┆ null   │\n",
       "└──────┴────────┘"
      ]
     },
     "execution_count": 25,
     "metadata": {},
     "output_type": "execute_result"
    }
   ],
   "source": [
    "df_w_sqrt = (df\n",
    "             .select([pl.col('a'),\n",
    "                      pl.col('a').sqrt().alias('sqrt_a'),\n",
    "                     ])\n",
    ")\n",
    "df_w_sqrt"
   ]
  },
  {
   "cell_type": "markdown",
   "id": "6de62f8a",
   "metadata": {},
   "source": [
    "### `Nan`  are not `None` "
   ]
  },
  {
   "cell_type": "code",
   "execution_count": 26,
   "id": "7d32b425",
   "metadata": {},
   "outputs": [
    {
     "data": {
      "text/html": [
       "<div><style>\n",
       ".dataframe > thead > tr,\n",
       ".dataframe > tbody > tr {\n",
       "  text-align: right;\n",
       "  white-space: pre-wrap;\n",
       "}\n",
       "</style>\n",
       "<small>shape: (4, 3)</small><table border=\"1\" class=\"dataframe\"><thead><tr><th>sqrt_a</th><th>Is null</th><th>Is nan</th></tr><tr><td>f64</td><td>bool</td><td>bool</td></tr></thead><tbody><tr><td>NaN</td><td>false</td><td>true</td></tr><tr><td>0.0</td><td>false</td><td>false</td></tr><tr><td>1.0</td><td>false</td><td>false</td></tr><tr><td>null</td><td>true</td><td>null</td></tr></tbody></table></div>"
      ],
      "text/plain": [
       "shape: (4, 3)\n",
       "┌────────┬─────────┬────────┐\n",
       "│ sqrt_a ┆ Is null ┆ Is nan │\n",
       "│ ---    ┆ ---     ┆ ---    │\n",
       "│ f64    ┆ bool    ┆ bool   │\n",
       "╞════════╪═════════╪════════╡\n",
       "│ NaN    ┆ false   ┆ true   │\n",
       "│ 0.0    ┆ false   ┆ false  │\n",
       "│ 1.0    ┆ false   ┆ false  │\n",
       "│ null   ┆ true    ┆ null   │\n",
       "└────────┴─────────┴────────┘"
      ]
     },
     "execution_count": 26,
     "metadata": {},
     "output_type": "execute_result"
    }
   ],
   "source": [
    "(df_w_sqrt\n",
    " .select([\n",
    "          pl.col('sqrt_a'),\n",
    "          pl.col('sqrt_a').is_null().alias('Is null'),\n",
    "          pl.col('sqrt_a').is_nan().alias('Is nan'),\n",
    "             ])\n",
    ")"
   ]
  },
  {
   "cell_type": "markdown",
   "id": "ebcd6c7b",
   "metadata": {},
   "source": [
    "### `NaN` and `None` affect aggregation differently.\n",
    "\n",
    "We will discuss the effects of these values on aggregation in a future lecture."
   ]
  },
  {
   "cell_type": "markdown",
   "id": "b699f3a0",
   "metadata": {},
   "source": [
    "## Getting to know your data\n",
    "\n",
    "To get to know your data, use the following data frame methods.\n",
    "\n",
    "* `df.head()`        first five rows\n",
    "* `df.tail()`        last five rows\n",
    "* `df.sample(5)`     random sample of rows\n",
    "* `df.shape`         number of rows/columns in a tuple\n",
    "* `df.describe()`    calculates measures of central tendency"
   ]
  },
  {
   "cell_type": "markdown",
   "id": "4b1704aa",
   "metadata": {},
   "source": [
    "#### Getting the number of rows and columns using `shape`"
   ]
  },
  {
   "cell_type": "code",
   "execution_count": 27,
   "id": "8baf37c8",
   "metadata": {},
   "outputs": [
    {
     "data": {
      "text/plain": [
       "(4, 3)"
      ]
     },
     "execution_count": 27,
     "metadata": {},
     "output_type": "execute_result"
    }
   ],
   "source": [
    "df.shape"
   ]
  },
  {
   "cell_type": "markdown",
   "id": "1e6a340b",
   "metadata": {},
   "source": [
    "#### Getting summary statistics for each column with `describe`"
   ]
  },
  {
   "cell_type": "code",
   "execution_count": 28,
   "id": "85d6b504",
   "metadata": {},
   "outputs": [
    {
     "data": {
      "text/html": [
       "<div><style>\n",
       ".dataframe > thead > tr,\n",
       ".dataframe > tbody > tr {\n",
       "  text-align: right;\n",
       "  white-space: pre-wrap;\n",
       "}\n",
       "</style>\n",
       "<small>shape: (9, 4)</small><table border=\"1\" class=\"dataframe\"><thead><tr><th>statistic</th><th>a</th><th>b</th><th>c</th></tr><tr><td>str</td><td>f64</td><td>f64</td><td>f64</td></tr></thead><tbody><tr><td>&quot;count&quot;</td><td>3.0</td><td>3.0</td><td>4.0</td></tr><tr><td>&quot;null_count&quot;</td><td>1.0</td><td>1.0</td><td>0.0</td></tr><tr><td>&quot;mean&quot;</td><td>0.0</td><td>2.333333</td><td>NaN</td></tr><tr><td>&quot;std&quot;</td><td>1.0</td><td>1.527525</td><td>NaN</td></tr><tr><td>&quot;min&quot;</td><td>-1.0</td><td>1.0</td><td>1.0</td></tr><tr><td>&quot;25%&quot;</td><td>0.0</td><td>2.0</td><td>2.0</td></tr><tr><td>&quot;50%&quot;</td><td>0.0</td><td>2.0</td><td>4.0</td></tr><tr><td>&quot;75%&quot;</td><td>1.0</td><td>4.0</td><td>4.0</td></tr><tr><td>&quot;max&quot;</td><td>1.0</td><td>4.0</td><td>4.0</td></tr></tbody></table></div>"
      ],
      "text/plain": [
       "shape: (9, 4)\n",
       "┌────────────┬──────┬──────────┬─────┐\n",
       "│ statistic  ┆ a    ┆ b        ┆ c   │\n",
       "│ ---        ┆ ---  ┆ ---      ┆ --- │\n",
       "│ str        ┆ f64  ┆ f64      ┆ f64 │\n",
       "╞════════════╪══════╪══════════╪═════╡\n",
       "│ count      ┆ 3.0  ┆ 3.0      ┆ 4.0 │\n",
       "│ null_count ┆ 1.0  ┆ 1.0      ┆ 0.0 │\n",
       "│ mean       ┆ 0.0  ┆ 2.333333 ┆ NaN │\n",
       "│ std        ┆ 1.0  ┆ 1.527525 ┆ NaN │\n",
       "│ min        ┆ -1.0 ┆ 1.0      ┆ 1.0 │\n",
       "│ 25%        ┆ 0.0  ┆ 2.0      ┆ 2.0 │\n",
       "│ 50%        ┆ 0.0  ┆ 2.0      ┆ 4.0 │\n",
       "│ 75%        ┆ 1.0  ┆ 4.0      ┆ 4.0 │\n",
       "│ max        ┆ 1.0  ┆ 4.0      ┆ 4.0 │\n",
       "└────────────┴──────┴──────────┴─────┘"
      ]
     },
     "execution_count": 28,
     "metadata": {},
     "output_type": "execute_result"
    }
   ],
   "source": [
    "df.describe()"
   ]
  },
  {
   "cell_type": "markdown",
   "id": "eecc468c",
   "metadata": {
    "slideshow": {
     "slide_type": "slide"
    }
   },
   "source": [
    "## <font color=\"red\"> Exercise 6.1.3</font>\n",
    "\n",
    "**Tasks.**\n",
    "\n",
    "* Use various method to inspect the `./sample_data/Artwork.csv` data from MoMA \n",
    "* Write a short summary of what your learn."
   ]
  },
  {
   "cell_type": "code",
   "execution_count": null,
   "id": "f3745498",
   "metadata": {},
   "outputs": [],
   "source": [
    "# Your code here (open new code cells for each method)"
   ]
  },
  {
   "cell_type": "markdown",
   "id": "2997b478",
   "metadata": {},
   "source": [
    "> Your thoughts here (open new markdown cells for each method)"
   ]
  }
 ],
 "metadata": {
  "kernelspec": {
   "display_name": "Python 3 (ipykernel)",
   "language": "python",
   "name": "python3"
  },
  "language_info": {
   "codemirror_mode": {
    "name": "ipython",
    "version": 3
   },
   "file_extension": ".py",
   "mimetype": "text/x-python",
   "name": "python",
   "nbconvert_exporter": "python",
   "pygments_lexer": "ipython3",
   "version": "3.13.5"
  },
  "varInspector": {
   "cols": {
    "lenName": 16,
    "lenType": 16,
    "lenVar": 40
   },
   "kernels_config": {
    "python": {
     "delete_cmd_postfix": "",
     "delete_cmd_prefix": "del ",
     "library": "var_list.py",
     "varRefreshCmd": "print(var_dic_list())"
    },
    "r": {
     "delete_cmd_postfix": ") ",
     "delete_cmd_prefix": "rm(",
     "library": "var_list.r",
     "varRefreshCmd": "cat(var_dic_list()) "
    }
   },
   "types_to_exclude": [
    "module",
    "function",
    "builtin_function_or_method",
    "instance",
    "_Feature"
   ],
   "window_display": false
  }
 },
 "nbformat": 4,
 "nbformat_minor": 5
}
